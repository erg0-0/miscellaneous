{
 "cells": [
  {
   "cell_type": "markdown",
   "metadata": {},
   "source": [
    "# A/B STATISTICAL SIGNIFICANCE FUNCTION"
   ]
  },
  {
   "cell_type": "markdown",
   "metadata": {},
   "source": [
    "**PROBLEM**\n",
    "\n",
    "Suppose a product team runs an A/B test on a change in the purchase checkout funnel. Version A (control) was seen by 15,000 users, of which 1,500 completed the purchase. Version B (test) was seen by 12,000 users, of which 1,250 completed the purchase. How would you evaluate the results of this A/B test?"
   ]
  },
  {
   "cell_type": "code",
   "execution_count": 2,
   "metadata": {},
   "outputs": [],
   "source": [
    "import numpy as np\n",
    "from scipy import stats"
   ]
  },
  {
   "cell_type": "markdown",
   "metadata": {},
   "source": []
  },
  {
   "cell_type": "code",
   "execution_count": 17,
   "metadata": {},
   "outputs": [],
   "source": [
    "\n",
    "\n",
    "def ab_test_analysis(conversions_control_version_a: int, users_control_version_a:int, conversions_test_version_b:int, users_test_version_b:int):\n",
    "    \"\"\"\n",
    "    Perform A/B test analysis and calculate z-score and p-value.\n",
    "    \n",
    "    Parameters:\n",
    "    conversions_control_version_a (int): Number of conversions for version A (control)\n",
    "    users_control_version_a (int): Total users for version A\n",
    "    conversions_test_version_b (int): Number of conversions for version B (test)\n",
    "    users_test_version_b: Total users for version B\n",
    "\n",
    "    Returns:\n",
    "    tuple: (z-score, p-value)\n",
    "    \"\"\"\n",
    "    \n",
    "    p1 = conversions_control_version_a / users_control_version_a\n",
    "    p2 = conversions_test_version_b / users_test_version_b\n",
    "\n",
    "    p = (conversions_control_version_a + conversions_test_version_b) / (users_control_version_a + users_test_version_b)\n",
    "    se = np.sqrt(p * (1 - p) * (1/users_control_version_a + 1/users_test_version_b))\n",
    "    z = (p1 - p2) / se\n",
    "    p_value = stats.norm.sf(abs(z)) * 2  \n",
    "    return  p1, p2, z, p_value"
   ]
  },
  {
   "cell_type": "code",
   "execution_count": 18,
   "metadata": {},
   "outputs": [
    {
     "name": "stdout",
     "output_type": "stream",
     "text": [
      "Conversion rate for control:10.0%\n",
      "Conversion rate for test:10.416666666666668%\n",
      "Percentage Lift: 4.17%\n",
      "Z-score: -1.1248\n",
      "P-value: 0.2607\n",
      "There is not enough evidence to reject the null hypothesis.\n"
     ]
    }
   ],
   "source": [
    "p1,p2, z_score, p_value = ab_test_analysis(1500, 15000, 1250, 12000)\n",
    "percentage_lift = (p2-p1)/p1*100\n",
    "if p_value < 0.05:\n",
    "    comparison_message = \"There is significant evidence to reject the null hypothesis.\"\n",
    "else:\n",
    "    comparison_message = \"There is not enough evidence to reject the null hypothesis.\"\n",
    "\n",
    "print(f\"Conversion rate for control:{p1*100}%\")\n",
    "print(f\"Conversion rate for test:{p2*100}%\")\n",
    "print(f\"Percentage Lift: {round(percentage_lift,2)}%\")\n",
    "print(f\"Z-score: {z_score:.4f}\")\n",
    "print(f\"P-value: {p_value:.4f}\")\n",
    "print(comparison_message)"
   ]
  }
 ],
 "metadata": {
  "kernelspec": {
   "display_name": "capstone",
   "language": "python",
   "name": "python3"
  },
  "language_info": {
   "codemirror_mode": {
    "name": "ipython",
    "version": 3
   },
   "file_extension": ".py",
   "mimetype": "text/x-python",
   "name": "python",
   "nbconvert_exporter": "python",
   "pygments_lexer": "ipython3",
   "version": "3.12.2"
  }
 },
 "nbformat": 4,
 "nbformat_minor": 2
}
